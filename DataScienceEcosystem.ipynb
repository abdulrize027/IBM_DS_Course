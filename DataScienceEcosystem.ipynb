{
 "cells": [
  {
   "cell_type": "markdown",
   "id": "f3e954bc-4e8d-423d-a6e9-f8950a456acd",
   "metadata": {},
   "source": [
    "# Data Science Tools and Ecosystem"
   ]
  },
  {
   "cell_type": "markdown",
   "id": "a7066de4-0b17-4181-a65b-b3f35d8256a6",
   "metadata": {},
   "source": [
    "In this notebook, Data Science Tools and Ecosystem are summarized."
   ]
  },
  {
   "cell_type": "markdown",
   "id": "c5aeb0ce-1d7e-46b0-a379-c80e7b778e54",
   "metadata": {},
   "source": [
    "Some of the popular languages that Data Scientists use are:"
   ]
  },
  {
   "cell_type": "markdown",
   "id": "1097d255-261c-4469-bb35-7f55f9d52789",
   "metadata": {},
   "source": [
    "1. Python\n",
    "2. R\n",
    "3. C++"
   ]
  },
  {
   "cell_type": "markdown",
   "id": "f35d30aa-35ac-453a-aadd-ae290f97f6b9",
   "metadata": {},
   "source": [
    "Some of the commonly used libraries used by Data Scientists include:\n",
    "\n",
    "1. Pandas\n",
    "2. Numpy\n",
    "3. Matplotlib\n"
   ]
  },
  {
   "cell_type": "markdown",
   "id": "0254d067-8ee3-4197-9151-4e900afe6f6d",
   "metadata": {},
   "source": [
    "| Data Science Tools |\n",
    "| -------------|\n",
    "| Jupyter Lab|\n",
    "| Visual Studio|\n",
    "| Spyder|"
   ]
  },
  {
   "cell_type": "markdown",
   "id": "675b776e-37f7-4f23-bbb4-8b0ccf99bccf",
   "metadata": {},
   "source": [
    "### Below are a few examples of evaluating arithmetic expressions in Python"
   ]
  },
  {
   "cell_type": "code",
   "execution_count": 1,
   "id": "4a2881a4-3f10-417a-9125-910b4f91e32b",
   "metadata": {},
   "outputs": [
    {
     "data": {
      "text/plain": [
       "17"
      ]
     },
     "execution_count": 1,
     "metadata": {},
     "output_type": "execute_result"
    }
   ],
   "source": [
    "(3*4)+5\n",
    "#his a simple arithmetic expression to mutiply then add integers."
   ]
  },
  {
   "cell_type": "code",
   "execution_count": 3,
   "id": "253450dc-fb86-4982-a6fa-be57764f0fdd",
   "metadata": {},
   "outputs": [
    {
     "name": "stdout",
     "output_type": "stream",
     "text": [
      "3.3333333333333335\n"
     ]
    }
   ],
   "source": [
    "time_in_minutes = 200\n",
    "time_in_hours = time_in_minutes/60 \n",
    "print(time_in_hours)\n",
    "#This will convert 200 minutes to hours by diving by 60"
   ]
  },
  {
   "cell_type": "markdown",
   "id": "bb6302e0-d4a9-43b2-b9b4-9e29d4e0130e",
   "metadata": {},
   "source": [
    "**Objectives** "
   ]
  },
  {
   "cell_type": "markdown",
   "id": "1d1aae99-6d47-4d85-96e8-cec0be5527f6",
   "metadata": {},
   "source": [
    "- List popular languages for Data Science\n",
    "- List popular Libraries for Data Science\n",
    "- Perform an arithmetic operation \n",
    "- Convert time in munites to hour "
   ]
  },
  {
   "cell_type": "markdown",
   "id": "14c4c441-3274-440a-bee1-827178989d8d",
   "metadata": {},
   "source": [
    "## Author\n",
    "Abdul Raize"
   ]
  },
  {
   "cell_type": "code",
   "execution_count": null,
   "id": "fccc3b03-e9b6-4f54-a78b-4e8709348144",
   "metadata": {},
   "outputs": [],
   "source": []
  }
 ],
 "metadata": {
  "kernelspec": {
   "display_name": "Python 3 (ipykernel)",
   "language": "python",
   "name": "python3"
  },
  "language_info": {
   "codemirror_mode": {
    "name": "ipython",
    "version": 3
   },
   "file_extension": ".py",
   "mimetype": "text/x-python",
   "name": "python",
   "nbconvert_exporter": "python",
   "pygments_lexer": "ipython3",
   "version": "3.11.0"
  }
 },
 "nbformat": 4,
 "nbformat_minor": 5
}
